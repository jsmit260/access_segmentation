{
 "cells": [
  {
   "cell_type": "code",
   "execution_count": 11,
   "id": "c70a98c2",
   "metadata": {},
   "outputs": [],
   "source": [
    "import ipaddress\n",
    "import random\n",
    "import nmap\n",
    "import masscan\n",
    "import os\n",
    "\n",
    "top_20_ports = ['80','23','443','21','22','25','3389','110','445','139','143','53','135','3306','8080','1723','111','995','993','5900']\n",
    "ranges = ['192.168.3.0/24'] #,'10.129.90.0/24','10.10.10.0/24','192.168.2.0/24','172.16.0.0/12']\n",
    "tracking = {}\n",
    "for range in ranges:\n",
    "    tracking[range]={'uphost_count':0,'responsive_ips':[],'responsive_ports':[]} # scan types needs to be updated to successfulscantype\n",
    "\n",
    "class IPer():\n",
    "    def __init__(self, ip_range):\n",
    "        self.ip_range = ipaddress.IPv4Network('192.168.2.0/24')\n",
    "    \n",
    "    def get_samples(netrange,percentage):\n",
    "        \n",
    "        hosts = list(ipaddress.ip_network(netrange).hosts())\n",
    "        print('TOTAL Possible IPs: {}'.format(len(hosts)))\n",
    "        ten_percent = len(hosts)*percentage\n",
    "        choosen1 = random.sample(hosts,int(ten_percent))\n",
    "        after_choosen1 = list(set(hosts)-set(choosen1))\n",
    "        choosen2 = random.sample(after_choosen1,int(ten_percent))\n",
    "\n",
    "        after_choosen2 = list(set(after_choosen1)-set(choosen2))\n",
    "        choosen3 = random.sample(after_choosen2,(int(ten_percent)))\n",
    "        \n",
    "        choosen1_strings = []\n",
    "        for ip in choosen1:\n",
    "            choosen1_strings.append(str(ip))\n",
    "        \n",
    "        choosen2_strings = []\n",
    "        for ip in choosen2:\n",
    "            choosen2_strings.append(str(ip))\n",
    "            \n",
    "        choosen3_strings = []\n",
    "        for ip in choosen3:\n",
    "            choosen3_strings.append(str(ip))\n",
    "                                \n",
    "        return choosen1_strings,choosen2_strings,choosen3_strings\n",
    "    \n",
    "    def get_my_local_ip():\n",
    "        os.system(\"ip -br address | grep eth0  | cut -d 'P' -f 2 | cut -d ' ' -f 14 | cut -d '/' -f 1 > file.txt\")\n",
    "        with open(\"file.txt\",'r') as f:\n",
    "            ip = f.read()\n",
    "            ip_strip = ip.strip()\n",
    "            return ip_strip\n",
    "\n",
    "    \n",
    "def nmap_top_hundred(the_range):\n",
    "    sample1,sample2,sample3 = IPer.get_samples(the_range,.2)\n",
    "    scan1=''\n",
    "    scan2=''\n",
    "    scan3=''\n",
    "    nm = nmap.PortScanner()\n",
    "    print('SCAN #1')\n",
    "    scan_data =nm.scan(hosts=' '.join(sample1), arguments='-T5 -n --top-ports 100 --exclude {}'.format())\n",
    "    print('Uphosts: ',scan_data['nmap']['scanstats']['uphosts'])\n",
    "    print(scan_data)\n",
    "    for ip,data in scan_data['scan'].items():\n",
    "        if data['status']['state'] == 'up':\n",
    "            # determine which range the ip belongs to then add to uphost_count, and update responsive IPs,\n",
    "            tracking[the_range]['uphost_count'] += 1\n",
    "            tracking[the_range]['responsive_ips'].append([ip,'nmap_portscan'])\n",
    "    return scan_data\n",
    "\n",
    "\n",
    "##################\n",
    "# TO DO:\n",
    "#       1. Add checks to determine fastest rate for network allowed\n",
    "def masscan_ports(the_range,top_20_ports):\n",
    "        #will use samples\n",
    "        sample1,sample2,sample3 = IPer.get_samples(the_range,.3)\n",
    "        samples = [sample1,sample2,sample3]\n",
    "        ms = masscan.PortScanner()\n",
    "        \n",
    "        for sample in samples:\n",
    "            print(sample)\n",
    "            if tracking[the_range] == 0:\n",
    "                ms.scan(' '.join(sample),ports='{}'.format(','.join(top_20_ports)),arguments=\"--router-mac 66-55-44-33-22-11 -e eth0 --max-rate 30000\")\n",
    "                #place holder return value from historic run on hackthebox.com\n",
    "                '''\n",
    "                ms = {ipaddress.ip_address(('10.129.90.245')): ['tcp', [80, 135, 139, 445]],\n",
    "                      ipaddress.ip_address(('10.129.90.241')): ['tcp', [80]],\n",
    "                      ipaddress.ip_address(('10.129.90.146')): ['tcp', [22, 80]],\n",
    "                      ipaddress.ip_address(('10.129.90.220')): ['tcp', [80]],\n",
    "                      ipaddress.ip_address(('10.129.90.128')): ['tcp', [80]]}\n",
    "                '''\n",
    "                the_count = 0\n",
    "                for ip,ports in ms.items():\n",
    "                    print(\"THIS IS IP: {}/tTHIS IS PORTS: {}\".format(ip,ports))\n",
    "                    if len(ports) > 0:\n",
    "                        the_count += 1\n",
    "                        tracking[the_range]['uphost_count'] += 1\n",
    "                        tracking[the_range]['responsive_ips'].append(ip)\n",
    "                        tracking[the_range]['responsive_ports'].append([ports,'masscan_portscan'])\n",
    "                \n",
    "def fping_sweep(the_range):\n",
    "    print(\"[*]RUNNING PING SWEEP[*]\")\n",
    "    cmd='fping -4 --addr -r 1 -a -i 1 -g {} 2>/dev/null >> fping_uphosts.txt'.format(the_range)\n",
    "    out = os.system(cmd)\n",
    "    with open('fping_uphosts.txt','r') as f:\n",
    "        lines = f.readlines()\n",
    "        if len(lines) > 0:\n",
    "            scanner_ip = IPer.get_my_local_ip()\n",
    "            for line in lines:\n",
    "                if scanner_ip not in line:\n",
    "                    tracking[the_range]['uphost_count'] += 1\n",
    "                    tracking[the_range]['responsive_ips'].append([line.strip(),'fping_ping'])\n",
    "                else:\n",
    "                    pass\n",
    "    os.system('rm fping_uphosts.txt')\n",
    "    print('[*]PING SWEEP COMPLETE[*]')\n",
    "    \n",
    "    \n",
    "def unicorn_ports(the_range,top_20_ports):\n",
    "    sample1,sample2,sample3 = IPer.get_samples(the_range,.1)\n",
    "    samples = [sample1,sample2,sample3]\n",
    "    for sample in samples:\n",
    "        if tracking[the_range][\"uphost_count\"] >0:\n",
    "            pass\n",
    "        else:\n",
    "            # sudo unicornscan --immediate -mT -R 1 -r100000 -i eth0 192.168.3.0/24 --ports 80,443,22\n",
    "            cmd='sudo unicornscan -mT -R 1 -r100000 -i eth0 {} --ports {} >> unicornscan.out'.format(' '.join(sample),','.join(top_20_ports))\n",
    "            out = os.system(cmd)\n",
    "            get_ports = \"cat unicornscan.out | cut -d '[' -f2 | cut -d ']' -f1 | cut -d ' ' -f 4 >>ports.out\"\n",
    "            os.system(get_ports)\n",
    "            get_ips = \"cat unicornscan.out | cut -d 'm' -f2 | cut -d ' ' -f2 >> unicorn_ips.out\"\n",
    "            os.system(get_ips)\n",
    "\n",
    "            ips = []\n",
    "            ports = []\n",
    "            with open('unicorn_ips.out','r') as f:\n",
    "                d = f.readlines()\n",
    "                for ip in d:\n",
    "                    ips.append(ip.strip())\n",
    "            with open('ports.out','r') as f:\n",
    "                d = f.readlines()\n",
    "                for port in d:\n",
    "                    ports.append(port.strip())\n",
    "            ip_port = list(zip(ips,ports))\n",
    "            for each in ip_port:\n",
    "                if each[0] not in tracking[the_range]['responsive_ips'] and each[0] !='':\n",
    "                    tracking[the_range]['uphost_count'] += 1\n",
    "                    tracking[the_range]['responsive_ips'].append([each[0],'unicorn_scan'])\n",
    "\n",
    "    \n",
    "        \n",
    "\n",
    "        "
   ]
  },
  {
   "cell_type": "code",
   "execution_count": 12,
   "id": "5cd8e89b",
   "metadata": {},
   "outputs": [
    {
     "name": "stdout",
     "output_type": "stream",
     "text": [
      "[*]RUNNING PING SWEEP[*]\n",
      "[*]PING SWEEP COMPLETE[*]\n"
     ]
    }
   ],
   "source": [
    "for range in ranges:\n",
    "    fping_sweep(range)"
   ]
  },
  {
   "cell_type": "code",
   "execution_count": 13,
   "id": "a10012ab",
   "metadata": {},
   "outputs": [
    {
     "data": {
      "text/plain": [
       "{'192.168.3.0/24': {'uphost_count': 0,\n",
       "  'responsive_ips': [],\n",
       "  'responsive_ports': []}}"
      ]
     },
     "execution_count": 13,
     "metadata": {},
     "output_type": "execute_result"
    }
   ],
   "source": [
    "tracking"
   ]
  },
  {
   "cell_type": "code",
   "execution_count": 14,
   "id": "df98f8e9",
   "metadata": {
    "scrolled": true
   },
   "outputs": [
    {
     "name": "stdout",
     "output_type": "stream",
     "text": [
      "TOTAL Possible IPs: 254\n"
     ]
    }
   ],
   "source": [
    "unicorn_ports(range,top_20_ports)"
   ]
  },
  {
   "cell_type": "code",
   "execution_count": 15,
   "id": "8cf0c69a",
   "metadata": {
    "scrolled": true
   },
   "outputs": [
    {
     "data": {
      "text/plain": [
       "{'192.168.3.0/24': {'uphost_count': 102,\n",
       "  'responsive_ips': [['192.168.3.27', 'unicorn_scan'],\n",
       "   ['192.168.3.33', 'unicorn_scan'],\n",
       "   ['192.168.3.195', 'unicorn_scan'],\n",
       "   ['192.168.3.27', 'unicorn_scan'],\n",
       "   ['192.168.3.33', 'unicorn_scan'],\n",
       "   ['192.168.3.195', 'unicorn_scan'],\n",
       "   ['192.168.3.27', 'unicorn_scan'],\n",
       "   ['192.168.3.33', 'unicorn_scan'],\n",
       "   ['192.168.3.195', 'unicorn_scan'],\n",
       "   ['192.168.3.31', 'unicorn_scan'],\n",
       "   ['192.168.3.95', 'unicorn_scan'],\n",
       "   ['192.168.3.195', 'unicorn_scan'],\n",
       "   ['192.168.3.27', 'unicorn_scan'],\n",
       "   ['192.168.3.33', 'unicorn_scan'],\n",
       "   ['192.168.3.195', 'unicorn_scan'],\n",
       "   ['192.168.3.31', 'unicorn_scan'],\n",
       "   ['192.168.3.95', 'unicorn_scan'],\n",
       "   ['192.168.3.195', 'unicorn_scan'],\n",
       "   ['192.168.3.27', 'unicorn_scan'],\n",
       "   ['192.168.3.33', 'unicorn_scan'],\n",
       "   ['192.168.3.195', 'unicorn_scan'],\n",
       "   ['192.168.3.31', 'unicorn_scan'],\n",
       "   ['192.168.3.95', 'unicorn_scan'],\n",
       "   ['192.168.3.195', 'unicorn_scan'],\n",
       "   ['192.168.3.24', 'unicorn_scan'],\n",
       "   ['192.168.3.24', 'unicorn_scan'],\n",
       "   ['192.168.3.30', 'unicorn_scan'],\n",
       "   ['192.168.3.32', 'unicorn_scan'],\n",
       "   ['192.168.3.118', 'unicorn_scan'],\n",
       "   ['192.168.3.27', 'unicorn_scan'],\n",
       "   ['192.168.3.33', 'unicorn_scan'],\n",
       "   ['192.168.3.195', 'unicorn_scan'],\n",
       "   ['192.168.3.31', 'unicorn_scan'],\n",
       "   ['192.168.3.95', 'unicorn_scan'],\n",
       "   ['192.168.3.195', 'unicorn_scan'],\n",
       "   ['192.168.3.24', 'unicorn_scan'],\n",
       "   ['192.168.3.24', 'unicorn_scan'],\n",
       "   ['192.168.3.30', 'unicorn_scan'],\n",
       "   ['192.168.3.32', 'unicorn_scan'],\n",
       "   ['192.168.3.118', 'unicorn_scan'],\n",
       "   ['192.168.3.28', 'unicorn_scan'],\n",
       "   ['192.168.3.146', 'unicorn_scan'],\n",
       "   ['192.168.3.204', 'unicorn_scan'],\n",
       "   ['192.168.3.27', 'unicorn_scan'],\n",
       "   ['192.168.3.33', 'unicorn_scan'],\n",
       "   ['192.168.3.195', 'unicorn_scan'],\n",
       "   ['192.168.3.31', 'unicorn_scan'],\n",
       "   ['192.168.3.95', 'unicorn_scan'],\n",
       "   ['192.168.3.195', 'unicorn_scan'],\n",
       "   ['192.168.3.24', 'unicorn_scan'],\n",
       "   ['192.168.3.24', 'unicorn_scan'],\n",
       "   ['192.168.3.30', 'unicorn_scan'],\n",
       "   ['192.168.3.32', 'unicorn_scan'],\n",
       "   ['192.168.3.118', 'unicorn_scan'],\n",
       "   ['192.168.3.28', 'unicorn_scan'],\n",
       "   ['192.168.3.146', 'unicorn_scan'],\n",
       "   ['192.168.3.204', 'unicorn_scan'],\n",
       "   ['192.168.3.103', 'unicorn_scan'],\n",
       "   ['192.168.3.103', 'unicorn_scan'],\n",
       "   ['192.168.3.27', 'unicorn_scan'],\n",
       "   ['192.168.3.33', 'unicorn_scan'],\n",
       "   ['192.168.3.195', 'unicorn_scan'],\n",
       "   ['192.168.3.31', 'unicorn_scan'],\n",
       "   ['192.168.3.95', 'unicorn_scan'],\n",
       "   ['192.168.3.195', 'unicorn_scan'],\n",
       "   ['192.168.3.24', 'unicorn_scan'],\n",
       "   ['192.168.3.24', 'unicorn_scan'],\n",
       "   ['192.168.3.30', 'unicorn_scan'],\n",
       "   ['192.168.3.32', 'unicorn_scan'],\n",
       "   ['192.168.3.118', 'unicorn_scan'],\n",
       "   ['192.168.3.28', 'unicorn_scan'],\n",
       "   ['192.168.3.146', 'unicorn_scan'],\n",
       "   ['192.168.3.204', 'unicorn_scan'],\n",
       "   ['192.168.3.103', 'unicorn_scan'],\n",
       "   ['192.168.3.103', 'unicorn_scan'],\n",
       "   ['192.168.3.1', 'unicorn_scan'],\n",
       "   ['3389]\\t\\tfro', 'unicorn_scan'],\n",
       "   ['192.168.3.138', 'unicorn_scan'],\n",
       "   ['192.168.3.138', 'unicorn_scan'],\n",
       "   ['192.168.3.27', 'unicorn_scan'],\n",
       "   ['192.168.3.33', 'unicorn_scan'],\n",
       "   ['192.168.3.195', 'unicorn_scan'],\n",
       "   ['192.168.3.31', 'unicorn_scan'],\n",
       "   ['192.168.3.95', 'unicorn_scan'],\n",
       "   ['192.168.3.195', 'unicorn_scan'],\n",
       "   ['192.168.3.24', 'unicorn_scan'],\n",
       "   ['192.168.3.24', 'unicorn_scan'],\n",
       "   ['192.168.3.30', 'unicorn_scan'],\n",
       "   ['192.168.3.32', 'unicorn_scan'],\n",
       "   ['192.168.3.118', 'unicorn_scan'],\n",
       "   ['192.168.3.28', 'unicorn_scan'],\n",
       "   ['192.168.3.146', 'unicorn_scan'],\n",
       "   ['192.168.3.204', 'unicorn_scan'],\n",
       "   ['192.168.3.103', 'unicorn_scan'],\n",
       "   ['192.168.3.103', 'unicorn_scan'],\n",
       "   ['192.168.3.1', 'unicorn_scan'],\n",
       "   ['3389]\\t\\tfro', 'unicorn_scan'],\n",
       "   ['192.168.3.138', 'unicorn_scan'],\n",
       "   ['192.168.3.138', 'unicorn_scan'],\n",
       "   ['192.168.3.32', 'unicorn_scan'],\n",
       "   ['192.168.3.33', 'unicorn_scan'],\n",
       "   ['192.168.3.216', 'unicorn_scan']],\n",
       "  'responsive_ports': []}}"
      ]
     },
     "execution_count": 15,
     "metadata": {},
     "output_type": "execute_result"
    }
   ],
   "source": [
    "tracking"
   ]
  },
  {
   "cell_type": "code",
   "execution_count": null,
   "id": "f0b8d6e3",
   "metadata": {
    "scrolled": true
   },
   "outputs": [],
   "source": [
    "# nmap port scan top 100 ports if ping and masscan fail to get results        \n",
    "for ip_range,values in tracking.items():\n",
    "    if values['uphost_count'] <= 1:\n",
    "        nmap_top_hundred(ip_range)\n",
    "        \n",
    "        "
   ]
  },
  {
   "cell_type": "code",
   "execution_count": 84,
   "id": "5de04be8",
   "metadata": {},
   "outputs": [
    {
     "name": "stdout",
     "output_type": "stream",
     "text": [
      "10.10.10.8\n"
     ]
    },
    {
     "data": {
      "text/plain": [
       "'10.10.10.8'"
      ]
     },
     "execution_count": 84,
     "metadata": {},
     "output_type": "execute_result"
    }
   ],
   "source": [
    "IPer.get_my_local_ip()\n"
   ]
  },
  {
   "cell_type": "code",
   "execution_count": 55,
   "id": "df2ba078",
   "metadata": {},
   "outputs": [
    {
     "data": {
      "text/plain": [
       "\"                    \\nfor range in ranges:\\n    scan1 = ping_sweep_nmap(range)\\n    if tracki\\n\\nng[range]['uphost_count'] == 0:\\n        #run second ping sweep\\n        scan2 = ping_sweep_nmap(range)\\n        if tracking[range]['uphost_count'] == 0:\\n            #run third ping sweep\\n            scan3 = ping_sweep_nmap(range)\\n            if tracking[range]['uphost_count'] == 0:\\n                # Start port scanning stop if you get a hit\\n                masscan_ports(range,top_20_ports)\\n                if tracking[range]['uphost_count'] == 0:\\n                    masscan_ports(range,top_20_ports)\\n                    if tracking[range]['uphost_count'] == 0:\\n                        masscan_ports(range,top_20_ports)\\n                    \\n\""
      ]
     },
     "execution_count": 55,
     "metadata": {},
     "output_type": "execute_result"
    }
   ],
   "source": [
    "#run aping s1weep stop when you get a hit\n",
    "'''                    \n",
    "for range in ranges:\n",
    "    scan1 = ping_sweep_nmap(range)\n",
    "    if tracki\n",
    "\n",
    "ng[range]['uphost_count'] == 0:\n",
    "        #run second ping sweep\n",
    "        scan2 = ping_sweep_nmap(range)\n",
    "        if tracking[range]['uphost_count'] == 0:\n",
    "            #run third ping sweep\n",
    "            scan3 = ping_sweep_nmap(range)\n",
    "            if tracking[range]['uphost_count'] == 0:\n",
    "                # Start port scanning stop if you get a hit\n",
    "                masscan_ports(range,top_20_ports)\n",
    "                if tracking[range]['uphost_count'] == 0:\n",
    "                    masscan_ports(range,top_20_ports)\n",
    "                    if tracking[range]['uphost_count'] == 0:\n",
    "                        masscan_ports(range,top_20_ports)\n",
    "                    \n",
    "''' "
   ]
  },
  {
   "cell_type": "code",
   "execution_count": null,
   "id": "43ae7c8b",
   "metadata": {},
   "outputs": [],
   "source": []
  }
 ],
 "metadata": {
  "kernelspec": {
   "display_name": "Python 3 (ipykernel)",
   "language": "python",
   "name": "python3"
  },
  "language_info": {
   "codemirror_mode": {
    "name": "ipython",
    "version": 3
   },
   "file_extension": ".py",
   "mimetype": "text/x-python",
   "name": "python",
   "nbconvert_exporter": "python",
   "pygments_lexer": "ipython3",
   "version": "3.10.7"
  }
 },
 "nbformat": 4,
 "nbformat_minor": 5
}
