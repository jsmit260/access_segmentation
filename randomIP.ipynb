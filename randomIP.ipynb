{
 "cells": [
  {
   "cell_type": "code",
   "execution_count": 67,
   "id": "c70a98c2",
   "metadata": {},
   "outputs": [],
   "source": [
    "import ipaddress\n",
    "import random\n",
    "import nmap\n",
    "import fping\n",
    "import masscan\n",
    "import os\n",
    "\n",
    "top_20_ports = ['80','23','443','21','22','25','3389','110','445','139','143','53','135','3306','8080','1723','111','995','993','5900']\n",
    "ranges = ['192.168.42.0/24','10.129.90.0/24','10.10.10.0/24'] #,'192.168.2.0/24','172.16.0.0/12']\n",
    "tracking = {}\n",
    "for range in ranges:\n",
    "    tracking[range]={'uphost_count':0,'responsive_ips':[],'responsive_ports':[], 'scantypes':[]} # scan types needs to be updated to successfulscantype\n",
    "\n",
    "class IPer():\n",
    "    def __init__(self, ip_range):\n",
    "        self.ip_range = ipaddress.IPv4Network('192.168.2.0/24')\n",
    "    \n",
    "    def get_samples(netrange,percentage):\n",
    "        \n",
    "        hosts = list(ipaddress.ip_network(netrange).hosts())\n",
    "        print('TOTAL Possible IPs: {}'.format(len(hosts)))\n",
    "        ten_percent = len(hosts)*percentage\n",
    "        choosen1 = random.sample(hosts,int(ten_percent))\n",
    "        after_choosen1 = list(set(hosts)-set(choosen1))\n",
    "        choosen2 = random.sample(after_choosen1,int(ten_percent))\n",
    "\n",
    "        after_choosen2 = list(set(after_choosen1)-set(choosen2))\n",
    "        choosen3 = random.sample(after_choosen2,(int(ten_percent)))\n",
    "        \n",
    "        choosen1_strings = []\n",
    "        for ip in choosen1:\n",
    "            choosen1_strings.append(str(ip))\n",
    "        \n",
    "        choosen2_strings = []\n",
    "        for ip in choosen2:\n",
    "            choosen2_strings.append(str(ip))\n",
    "            \n",
    "        choosen3_strings = []\n",
    "        for ip in choosen3:\n",
    "            choosen3_strings.append(str(ip))\n",
    "                                \n",
    "        return choosen1_strings,choosen2_strings,choosen3_strings\n",
    "    def get_my_local_ip():\n",
    "        os.system(\"ip -br address | grep ztrf2uyok3 | cut -d ' ' -f 16 2>/dev/null > file.txt\")\n",
    "        with open(\"file.txt\",'r') as f:\n",
    "            ip = f.read()\n",
    "            ip_strip = ip.strip()\n",
    "            return ip_strip\n",
    "\n",
    "    \n",
    "def nmap_top_hundred(the_range):\n",
    "    sample1,sample2,sample3 = IPer.get_samples(the_range,.2)\n",
    "    scan1=''\n",
    "    scan2=''\n",
    "    scan3=''\n",
    "    nm = nmap.PortScanner()\n",
    "    print('SCAN #1')\n",
    "    scan_data =nm.scan(hosts=' '.join(sample1), arguments='-T5 -n --top-ports 100 --exclude {}'.format())\n",
    "    print('Uphosts: ',scan_data['nmap']['scanstats']['uphosts'])\n",
    "    print(scan_data)\n",
    "    for ip,data in scan_data['scan'].items():\n",
    "        if data['status']['state'] == 'up':\n",
    "            # determine which range the ip belongs to then add to uphost_count, and update responsive IPs,\n",
    "            tracking[the_range]['uphost_count'] += 1\n",
    "            tracking[the_range]['responsive_ips'].append(ip)\n",
    "            tracking[the_range]['scantypes'].append('nmap_portscan')\n",
    "    return scan_data\n",
    "\n",
    "\n",
    "##################\n",
    "# TO DO:\n",
    "#       1. Add checks to determine fastest rate for network allowed\n",
    "def masscan_ports(the_range,top_20_ports):\n",
    "        ms = masscan.PortScanner()\n",
    "        ms.scan(the_range,ports='{}'.format(','.join(top_20_ports)),arguments=\"--router-mac 66-55-44-33-22-11 -e ens34 --max-rate 30000\")\n",
    "        #place holder return value from historic run on hackthebox.com\n",
    "        \n",
    "        #will use samples when ironed out\n",
    "        sample1,sample2,sample3 = IPer.get_samples(the_range,.3)\n",
    "        \n",
    "        '''\n",
    "        ms = {ipaddress.ip_address(('10.129.90.245')): ['tcp', [80, 135, 139, 445]],\n",
    "              ipaddress.ip_address(('10.129.90.241')): ['tcp', [80]],\n",
    "              ipaddress.ip_address(('10.129.90.146')): ['tcp', [22, 80]],\n",
    "              ipaddress.ip_address(('10.129.90.220')): ['tcp', [80]],\n",
    "              ipaddress.ip_address(('10.129.90.128')): ['tcp', [80]]}\n",
    "        '''\n",
    "        the_count = 0\n",
    "        for ip,ports in ms.items():\n",
    "            print(\"THIS IS IP: {}/tTHIS IS PORTS: {}\".format(ip,ports))\n",
    "            if len(ports) > 0:\n",
    "                the_count += 1\n",
    "                tracking[the_range]['uphost_count'] += 1\n",
    "                tracking[the_range]['responsive_ips'].append(ip)\n",
    "                tracking[the_range]['responsive_ports'].append(ports)\n",
    "                tracking[the_range]['scantypes'].append('masscan_portscan')\n",
    "                \n",
    "def fping_sweep(the_range):\n",
    "    cmd='fping -4 --addr -r 1 -a -i 1 -g {} 2>/dev/null >> fping_uphosts.txt'.format(the_range)\n",
    "    out = os.system(cmd)\n",
    "    with open('fping_uphosts.txt','r') as f:\n",
    "        lines = f.readlines()\n",
    "        if len(lines) > 0:\n",
    "            for line in lines:\n",
    "                tracking[the_range]['uphost_count'] += 1\n",
    "                tracking[the_range]['responsive_ips'].append(line.strip())\n",
    "                tracking[the_range]['scantypes'].append('fping_ping')\n",
    "    os.system('rm fping_uphosts.txt')"
   ]
  },
  {
   "cell_type": "code",
   "execution_count": 68,
   "id": "5cd8e89b",
   "metadata": {},
   "outputs": [],
   "source": [
    "for range in ranges:\n",
    "    fping_sweep(range)"
   ]
  },
  {
   "cell_type": "code",
   "execution_count": 69,
   "id": "abb75ab3",
   "metadata": {},
   "outputs": [
    {
     "name": "stderr",
     "output_type": "stream",
     "text": [
      "[2022-10-06 23:33:30,155] [DEBUG] [masscan.py 10 line] Scan parameters: \"masscan -oX - 192.168.42.0/24 -p 80,23,443,21,22,25,3389,110,445,139,143,53,135,3306,8080,1723,111,995,993,5900 --router-mac 66-55-44-33-22-11 -e ens34 --max-rate 30000\"\n"
     ]
    },
    {
     "ename": "PortScannerError",
     "evalue": "'ERROR:\\'ens34\\': Cannot assign requested address\\n[-] FAIL: failed to detect IP of interface \"ens34\"\\n    [hint] did you spell the name correctly?\\n    [hint] if it has no IP address, manually set with something like \"--source-ip 198.51.100.17\"\\n'",
     "output_type": "error",
     "traceback": [
      "\u001b[0;31m---------------------------------------------------------------------------\u001b[0m",
      "\u001b[0;31mParseError\u001b[0m                                Traceback (most recent call last)",
      "File \u001b[0;32m~/.local/lib/python3.10/site-packages/masscan/masscan.py:384\u001b[0m, in \u001b[0;36mPortScanner.analyse_masscan_xml_scan\u001b[0;34m(self, masscan_xml_output, masscan_err, masscan_err_keep_trace, masscan_warn_keep_trace)\u001b[0m\n\u001b[1;32m    383\u001b[0m \u001b[38;5;28;01mtry\u001b[39;00m:\n\u001b[0;32m--> 384\u001b[0m     dom \u001b[38;5;241m=\u001b[39m \u001b[43mET\u001b[49m\u001b[38;5;241;43m.\u001b[39;49m\u001b[43mfromstring\u001b[49m\u001b[43m(\u001b[49m\u001b[38;5;28;43mself\u001b[39;49m\u001b[38;5;241;43m.\u001b[39;49m\u001b[43m_masscan_last_output\u001b[49m\u001b[43m)\u001b[49m\n\u001b[1;32m    385\u001b[0m \u001b[38;5;28;01mexcept\u001b[39;00m \u001b[38;5;167;01mException\u001b[39;00m:\n",
      "File \u001b[0;32m/usr/lib/python3.10/xml/etree/ElementTree.py:1343\u001b[0m, in \u001b[0;36mXML\u001b[0;34m(text, parser)\u001b[0m\n\u001b[1;32m   1342\u001b[0m parser\u001b[38;5;241m.\u001b[39mfeed(text)\n\u001b[0;32m-> 1343\u001b[0m \u001b[38;5;28;01mreturn\u001b[39;00m \u001b[43mparser\u001b[49m\u001b[38;5;241;43m.\u001b[39;49m\u001b[43mclose\u001b[49m\u001b[43m(\u001b[49m\u001b[43m)\u001b[49m\n",
      "\u001b[0;31mParseError\u001b[0m: no element found: line 1, column 0",
      "\nDuring handling of the above exception, another exception occurred:\n",
      "\u001b[0;31mPortScannerError\u001b[0m                          Traceback (most recent call last)",
      "Cell \u001b[0;32mIn [69], line 4\u001b[0m\n\u001b[1;32m      2\u001b[0m \u001b[38;5;28;01mfor\u001b[39;00m ip_range,values \u001b[38;5;129;01min\u001b[39;00m tracking\u001b[38;5;241m.\u001b[39mitems():\n\u001b[1;32m      3\u001b[0m     \u001b[38;5;28;01mif\u001b[39;00m values[\u001b[38;5;124m'\u001b[39m\u001b[38;5;124muphost_count\u001b[39m\u001b[38;5;124m'\u001b[39m] \u001b[38;5;241m<\u001b[39m\u001b[38;5;241m=\u001b[39m \u001b[38;5;241m1\u001b[39m:\n\u001b[0;32m----> 4\u001b[0m         \u001b[43mmasscan_ports\u001b[49m\u001b[43m(\u001b[49m\u001b[43mip_range\u001b[49m\u001b[43m,\u001b[49m\u001b[43mtop_20_ports\u001b[49m\u001b[43m)\u001b[49m\n",
      "Cell \u001b[0;32mIn [67], line 75\u001b[0m, in \u001b[0;36mmasscan_ports\u001b[0;34m(the_range, top_20_ports)\u001b[0m\n\u001b[1;32m     73\u001b[0m \u001b[38;5;28;01mdef\u001b[39;00m \u001b[38;5;21mmasscan_ports\u001b[39m(the_range,top_20_ports):\n\u001b[1;32m     74\u001b[0m         ms \u001b[38;5;241m=\u001b[39m masscan\u001b[38;5;241m.\u001b[39mPortScanner()\n\u001b[0;32m---> 75\u001b[0m         \u001b[43mms\u001b[49m\u001b[38;5;241;43m.\u001b[39;49m\u001b[43mscan\u001b[49m\u001b[43m(\u001b[49m\u001b[43mthe_range\u001b[49m\u001b[43m,\u001b[49m\u001b[43mports\u001b[49m\u001b[38;5;241;43m=\u001b[39;49m\u001b[38;5;124;43m'\u001b[39;49m\u001b[38;5;132;43;01m{}\u001b[39;49;00m\u001b[38;5;124;43m'\u001b[39;49m\u001b[38;5;241;43m.\u001b[39;49m\u001b[43mformat\u001b[49m\u001b[43m(\u001b[49m\u001b[38;5;124;43m'\u001b[39;49m\u001b[38;5;124;43m,\u001b[39;49m\u001b[38;5;124;43m'\u001b[39;49m\u001b[38;5;241;43m.\u001b[39;49m\u001b[43mjoin\u001b[49m\u001b[43m(\u001b[49m\u001b[43mtop_20_ports\u001b[49m\u001b[43m)\u001b[49m\u001b[43m)\u001b[49m\u001b[43m,\u001b[49m\u001b[43marguments\u001b[49m\u001b[38;5;241;43m=\u001b[39;49m\u001b[38;5;124;43m\"\u001b[39;49m\u001b[38;5;124;43m--router-mac 66-55-44-33-22-11 -e ens34 --max-rate 30000\u001b[39;49m\u001b[38;5;124;43m\"\u001b[39;49m\u001b[43m)\u001b[49m\n\u001b[1;32m     76\u001b[0m         \u001b[38;5;66;03m#place holder return value from historic run on hackthebox.com\u001b[39;00m\n\u001b[1;32m     77\u001b[0m         \n\u001b[1;32m     78\u001b[0m         \u001b[38;5;66;03m#will use samples when ironed out\u001b[39;00m\n\u001b[1;32m     79\u001b[0m         sample1,sample2,sample3 \u001b[38;5;241m=\u001b[39m IPer\u001b[38;5;241m.\u001b[39mget_samples(the_range,\u001b[38;5;241m.3\u001b[39m)\n",
      "File \u001b[0;32m~/.local/lib/python3.10/site-packages/masscan/masscan.py:325\u001b[0m, in \u001b[0;36mPortScanner.scan\u001b[0;34m(self, hosts, ports, arguments, sudo)\u001b[0m\n\u001b[1;32m    321\u001b[0m             \u001b[38;5;28;01melse\u001b[39;00m:\n\u001b[1;32m    322\u001b[0m                 \u001b[38;5;66;03m# raise PortScannerError(masscan_err)\u001b[39;00m\n\u001b[1;32m    323\u001b[0m                 masscan_err_keep_trace\u001b[38;5;241m.\u001b[39mappend(masscan_err)\n\u001b[0;32m--> 325\u001b[0m \u001b[38;5;28;01mreturn\u001b[39;00m \u001b[38;5;28;43mself\u001b[39;49m\u001b[38;5;241;43m.\u001b[39;49m\u001b[43manalyse_masscan_xml_scan\u001b[49m\u001b[43m(\u001b[49m\n\u001b[1;32m    326\u001b[0m \u001b[43m    \u001b[49m\u001b[43mmasscan_xml_output\u001b[49m\u001b[38;5;241;43m=\u001b[39;49m\u001b[38;5;28;43mself\u001b[39;49m\u001b[38;5;241;43m.\u001b[39;49m\u001b[43m_masscan_last_output\u001b[49m\u001b[43m,\u001b[49m\n\u001b[1;32m    327\u001b[0m \u001b[43m    \u001b[49m\u001b[43mmasscan_err\u001b[49m\u001b[38;5;241;43m=\u001b[39;49m\u001b[43mmasscan_err\u001b[49m\u001b[43m,\u001b[49m\n\u001b[1;32m    328\u001b[0m \u001b[43m    \u001b[49m\u001b[43mmasscan_err_keep_trace\u001b[49m\u001b[38;5;241;43m=\u001b[39;49m\u001b[43mmasscan_err_keep_trace\u001b[49m\u001b[43m,\u001b[49m\n\u001b[1;32m    329\u001b[0m \u001b[43m    \u001b[49m\u001b[43mmasscan_warn_keep_trace\u001b[49m\u001b[38;5;241;43m=\u001b[39;49m\u001b[43mmasscan_warn_keep_trace\u001b[49m\n\u001b[1;32m    330\u001b[0m \u001b[43m\u001b[49m\u001b[43m)\u001b[49m\n",
      "File \u001b[0;32m~/.local/lib/python3.10/site-packages/masscan/masscan.py:389\u001b[0m, in \u001b[0;36mPortScanner.analyse_masscan_xml_scan\u001b[0;34m(self, masscan_xml_output, masscan_err, masscan_err_keep_trace, masscan_warn_keep_trace)\u001b[0m\n\u001b[1;32m    387\u001b[0m     \u001b[38;5;28;01mraise\u001b[39;00m NetworkConnectionError(\u001b[38;5;124m\"\u001b[39m\u001b[38;5;124mnetwork is unreachable.\u001b[39m\u001b[38;5;124m\"\u001b[39m)\n\u001b[1;32m    388\u001b[0m \u001b[38;5;28;01mif\u001b[39;00m \u001b[38;5;28mlen\u001b[39m(masscan_err_keep_trace) \u001b[38;5;241m>\u001b[39m \u001b[38;5;241m0\u001b[39m:\n\u001b[0;32m--> 389\u001b[0m     \u001b[38;5;28;01mraise\u001b[39;00m PortScannerError(masscan_err)\n\u001b[1;32m    390\u001b[0m \u001b[38;5;28;01melse\u001b[39;00m:\n\u001b[1;32m    391\u001b[0m     \u001b[38;5;28;01mraise\u001b[39;00m PortScannerError(\u001b[38;5;28mself\u001b[39m\u001b[38;5;241m.\u001b[39m_masscan_last_output)\n",
      "\u001b[0;31mPortScannerError\u001b[0m: 'ERROR:\\'ens34\\': Cannot assign requested address\\n[-] FAIL: failed to detect IP of interface \"ens34\"\\n    [hint] did you spell the name correctly?\\n    [hint] if it has no IP address, manually set with something like \"--source-ip 198.51.100.17\"\\n'"
     ]
    }
   ],
   "source": [
    "# masscan top 20 ports for all non responsive ranges\n",
    "for ip_range,values in tracking.items():\n",
    "    if values['uphost_count'] <= 1:\n",
    "        masscan_ports(ip_range,top_20_ports)"
   ]
  },
  {
   "cell_type": "code",
   "execution_count": null,
   "id": "2e1736d6",
   "metadata": {
    "scrolled": true
   },
   "outputs": [],
   "source": [
    "# nmap port scan top 100 ports if ping and masscan fail to get results        \n",
    "for ip_range,values in tracking.items():\n",
    "    if values['uphost_count'] <= 1:\n",
    "        nmap_top_hundred(ip_range)\n",
    "        \n",
    "        "
   ]
  },
  {
   "cell_type": "code",
   "execution_count": 70,
   "id": "5de04be8",
   "metadata": {},
   "outputs": [
    {
     "data": {
      "text/plain": [
       "'10.10.10.8/24'"
      ]
     },
     "execution_count": 70,
     "metadata": {},
     "output_type": "execute_result"
    }
   ],
   "source": [
    "IPer.get_my_local_ip()\n"
   ]
  },
  {
   "cell_type": "code",
   "execution_count": 55,
   "id": "df2ba078",
   "metadata": {},
   "outputs": [
    {
     "data": {
      "text/plain": [
       "\"                    \\nfor range in ranges:\\n    scan1 = ping_sweep_nmap(range)\\n    if tracki\\n\\nng[range]['uphost_count'] == 0:\\n        #run second ping sweep\\n        scan2 = ping_sweep_nmap(range)\\n        if tracking[range]['uphost_count'] == 0:\\n            #run third ping sweep\\n            scan3 = ping_sweep_nmap(range)\\n            if tracking[range]['uphost_count'] == 0:\\n                # Start port scanning stop if you get a hit\\n                masscan_ports(range,top_20_ports)\\n                if tracking[range]['uphost_count'] == 0:\\n                    masscan_ports(range,top_20_ports)\\n                    if tracking[range]['uphost_count'] == 0:\\n                        masscan_ports(range,top_20_ports)\\n                    \\n\""
      ]
     },
     "execution_count": 55,
     "metadata": {},
     "output_type": "execute_result"
    }
   ],
   "source": [
    "#run aping sweep stop when you get a hit\n",
    "'''                    \n",
    "for range in ranges:\n",
    "    scan1 = ping_sweep_nmap(range)\n",
    "    if tracki\n",
    "\n",
    "ng[range]['uphost_count'] == 0:\n",
    "        #run second ping sweep\n",
    "        scan2 = ping_sweep_nmap(range)\n",
    "        if tracking[range]['uphost_count'] == 0:\n",
    "            #run third ping sweep\n",
    "            scan3 = ping_sweep_nmap(range)\n",
    "            if tracking[range]['uphost_count'] == 0:\n",
    "                # Start port scanning stop if you get a hit\n",
    "                masscan_ports(range,top_20_ports)\n",
    "                if tracking[range]['uphost_count'] == 0:\n",
    "                    masscan_ports(range,top_20_ports)\n",
    "                    if tracking[range]['uphost_count'] == 0:\n",
    "                        masscan_ports(range,top_20_ports)\n",
    "                    \n",
    "''' "
   ]
  },
  {
   "cell_type": "code",
   "execution_count": null,
   "id": "c125d9a1",
   "metadata": {},
   "outputs": [],
   "source": []
  }
 ],
 "metadata": {
  "kernelspec": {
   "display_name": "Python 3 (ipykernel)",
   "language": "python",
   "name": "python3"
  },
  "language_info": {
   "codemirror_mode": {
    "name": "ipython",
    "version": 3
   },
   "file_extension": ".py",
   "mimetype": "text/x-python",
   "name": "python",
   "nbconvert_exporter": "python",
   "pygments_lexer": "ipython3",
   "version": "3.10.6"
  }
 },
 "nbformat": 4,
 "nbformat_minor": 5
}
