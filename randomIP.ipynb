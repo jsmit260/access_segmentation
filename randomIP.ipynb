{
 "cells": [
  {
   "cell_type": "code",
   "execution_count": 21,
   "id": "c70a98c2",
   "metadata": {},
   "outputs": [],
   "source": [
    "import ipaddress\n",
    "import random\n",
    "import nmap\n",
    "import fping\n",
    "import masscan\n",
    "import os\n",
    "\n",
    "top_20_ports = ['80','23','443','21','22','25','3389','110','445','139','143','53','135','3306','8080','1723','111','995','993','5900']\n",
    "ranges = ['192.168.42.0/24']#,'10.129.90.0/24','192.168.2.0/24','172.16.0.0/12']\n",
    "tracking = {}\n",
    "for range in ranges:\n",
    "    tracking[range]={'uphost_count':0,'responsive_ips':[],'responsive_ports':[], 'scantypes':[]} # scan types needs to be updated to successfulscantype\n",
    "\n",
    "class IPer():\n",
    "    def __init__(self, ip_range):\n",
    "        self.ip_range = ipaddress.IPv4Network('192.168.2.0/24')\n",
    "    \n",
    "    def get_samples(netrange,percentage):\n",
    "        \n",
    "        hosts = list(ipaddress.ip_network(netrange).hosts())\n",
    "        print('TOTAL Possible IPs: {}'.format(len(hosts)))\n",
    "        ten_percent = len(hosts)*percentage\n",
    "        choosen1 = random.sample(hosts,int(ten_percent))\n",
    "        after_choosen1 = list(set(hosts)-set(choosen1))\n",
    "        choosen2 = random.sample(after_choosen1,int(ten_percent))\n",
    "\n",
    "        after_choosen2 = list(set(after_choosen1)-set(choosen2))\n",
    "        choosen3 = random.sample(after_choosen2,(int(ten_percent)))\n",
    "        \n",
    "        choosen1_strings = []\n",
    "        for ip in choosen1:\n",
    "            choosen1_strings.append(str(ip))\n",
    "        \n",
    "        choosen2_strings = []\n",
    "        for ip in choosen2:\n",
    "            choosen2_strings.append(str(ip))\n",
    "            \n",
    "        choosen3_strings = []\n",
    "        for ip in choosen3:\n",
    "            choosen3_strings.append(str(ip))\n",
    "                                \n",
    "        return choosen1_strings,choosen2_strings,choosen3_strings\n",
    "\n",
    "def nmap_top_hundred(the_range):\n",
    "    sample1,sample2,sample3 = IPer.get_samples(the_range,.2)\n",
    "    scan1=''\n",
    "    scan2=''\n",
    "    scan3=''\n",
    "    nm = nmap.PortScanner()\n",
    "    print('SCAN #1')\n",
    "    scan_data =nm.scan(hosts=' '.join(sample1), arguments='-T5 -n --top-ports 100 --exclude {}'.format())\n",
    "    print('Uphosts: ',scan_data['nmap']['scanstats']['uphosts'])\n",
    "    print(scan_data)\n",
    "    for ip,data in scan_data['scan'].items():\n",
    "        if data['status']['state'] == 'up':\n",
    "            # determine which range the ip belongs to then add to uphost_count, and update responsive IPs,\n",
    "            tracking[the_range]['uphost_count'] += 1\n",
    "            tracking[the_range]['responsive_ips'].append(ip)\n",
    "            tracking[the_range]['scantypes'].append('nmap_portscan')\n",
    "    return scan_data\n",
    "\n",
    "\n",
    "def masscan_ports(the_range,top_20_ports):\n",
    "        #ms = masscan.PortScanner()\n",
    "        #ms.scan(the_range,ports='{}'.format(','.join(top_20_ports)),arguments=\"-e ens34 --max-rate 30000\")\n",
    "        #place holder return value from historic run on hackthebox.com\n",
    "        \n",
    "        #will use samples when ironed out\n",
    "        sample1,sample2,sample3 = IPer.get_samples(the_range,.3)\n",
    "        \n",
    "        ms = {ipaddress.ip_address(('10.129.90.245')): ['tcp', [80, 135, 139, 445]],\n",
    "              ipaddress.ip_address(('10.129.90.241')): ['tcp', [80]],\n",
    "              ipaddress.ip_address(('10.129.90.146')): ['tcp', [22, 80]],\n",
    "              ipaddress.ip_address(('10.129.90.220')): ['tcp', [80]],\n",
    "              ipaddress.ip_address(('10.129.90.128')): ['tcp', [80]]}\n",
    "        the_count = 0\n",
    "        #tracking[range]={'uphost_count':0,'responsive_ips':[],'responsive_ports':[], 'scantypes':[]}\n",
    "        for ip,ports in ms.items():\n",
    "            if len(ports) > 0:\n",
    "                the_count += 1\n",
    "                tracking[the_range]['uphost_count'] += 1\n",
    "                tracking[the_range]['responsive_ips'].append(ip)\n",
    "                tracking[the_range]['responsive_ports'].append(ports)\n",
    "                tracking[the_range]['scantypes'].append('masscan_portscan')\n",
    "                \n",
    "def fping_sweep(the_range):\n",
    "    cmd='fping -4 --addr -r 1 -a -s -i 1 -g {} 2>/dev/null'.format(the_range)\n",
    "    out = os.system(cmd)\n",
    "    with open('fping_uphosts.txt','r') as f:\n",
    "        lines = f.readlines()\n",
    "        if len(lines) > 0:\n",
    "            for line in lines:\n",
    "                tracking[the_range]['uphost_count'] += 1\n",
    "                tracking[the_range]['responsive_ips'].append(line.strip())\n",
    "                tracking[the_range]['scantypes'].append('fping_ping')\n",
    "    os.system('rm fping_uphosts.txt')"
   ]
  },
  {
   "cell_type": "code",
   "execution_count": 22,
   "id": "5cd8e89b",
   "metadata": {},
   "outputs": [],
   "source": [
    "for range in ranges:\n",
    "    fping_sweep(range)"
   ]
  },
  {
   "cell_type": "code",
   "execution_count": 23,
   "id": "5de04be8",
   "metadata": {},
   "outputs": [
    {
     "data": {
      "text/plain": [
       "{'192.168.42.0/24': {'uphost_count': 3,\n",
       "  'responsive_ips': ['192.168.42.1', '192.168.42.131', '192.168.42.135'],\n",
       "  'responsive_ports': [],\n",
       "  'scantypes': ['fping_ping', 'fping_ping', 'fping_ping']}}"
      ]
     },
     "execution_count": 23,
     "metadata": {},
     "output_type": "execute_result"
    }
   ],
   "source": [
    "tracking"
   ]
  },
  {
   "cell_type": "code",
   "execution_count": 7,
   "id": "46837b6f",
   "metadata": {},
   "outputs": [],
   "source": [
    "#for range in ranges:\n",
    "#    port_masscan(range,top_20_ports)\n"
   ]
  },
  {
   "cell_type": "code",
   "execution_count": 35,
   "id": "75e67616",
   "metadata": {},
   "outputs": [
    {
     "name": "stdout",
     "output_type": "stream",
     "text": [
      "192.168.42.1\n",
      "192.168.42.131\n",
      "192.168.42.135\n",
      "256\n"
     ]
    }
   ],
   "source": [
    "cmd ='fping -4 --addr -r 1 -a -s -i 1 -g 192.168.42.0/24 2>/dev/null'\n",
    "out = os.system(cmd)\n",
    "print(out)"
   ]
  },
  {
   "cell_type": "code",
   "execution_count": null,
   "id": "228bc561",
   "metadata": {},
   "outputs": [],
   "source": []
  },
  {
   "cell_type": "code",
   "execution_count": null,
   "id": "49f914c5",
   "metadata": {},
   "outputs": [],
   "source": []
  },
  {
   "cell_type": "code",
   "execution_count": 40,
   "id": "df2ba078",
   "metadata": {},
   "outputs": [
    {
     "data": {
      "text/plain": [
       "\"                    \\nfor range in ranges:\\n    scan1 = ping_sweep_nmap(range)\\n    if tracking[range]['uphost_count'] == 0:\\n        #run second ping sweep\\n        scan2 = ping_sweep_nmap(range)\\n        if tracking[range]['uphost_count'] == 0:\\n            #run third ping sweep\\n            scan3 = ping_sweep_nmap(range)\\n            if tracking[range]['uphost_count'] == 0:\\n                # Start port scanning stop if you get a hit\\n                masscan_ports(range,top_20_ports)\\n                if tracking[range]['uphost_count'] == 0:\\n                    masscan_ports(range,top_20_ports)\\n                    if tracking[range]['uphost_count'] == 0:\\n                        masscan_ports(range,top_20_ports)\\n                    \\n\""
      ]
     },
     "execution_count": 40,
     "metadata": {},
     "output_type": "execute_result"
    }
   ],
   "source": [
    "#run aping sweep stop when you get a hit\n",
    "'''                    \n",
    "for range in ranges:\n",
    "    scan1 = ping_sweep_nmap(range)\n",
    "    if tracking[range]['uphost_count'] == 0:\n",
    "        #run second ping sweep\n",
    "        scan2 = ping_sweep_nmap(range)\n",
    "        if tracking[range]['uphost_count'] == 0:\n",
    "            #run third ping sweep\n",
    "            scan3 = ping_sweep_nmap(range)\n",
    "            if tracking[range]['uphost_count'] == 0:\n",
    "                # Start port scanning stop if you get a hit\n",
    "                masscan_ports(range,top_20_ports)\n",
    "                if tracking[range]['uphost_count'] == 0:\n",
    "                    masscan_ports(range,top_20_ports)\n",
    "                    if tracking[range]['uphost_count'] == 0:\n",
    "                        masscan_ports(range,top_20_ports)\n",
    "                    \n",
    "''' "
   ]
  }
 ],
 "metadata": {
  "kernelspec": {
   "display_name": "Python 3 (ipykernel)",
   "language": "python",
   "name": "python3"
  },
  "language_info": {
   "codemirror_mode": {
    "name": "ipython",
    "version": 3
   },
   "file_extension": ".py",
   "mimetype": "text/x-python",
   "name": "python",
   "nbconvert_exporter": "python",
   "pygments_lexer": "ipython3",
   "version": "3.10.4"
  }
 },
 "nbformat": 4,
 "nbformat_minor": 5
}
